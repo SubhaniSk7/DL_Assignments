{
 "cells": [
  {
   "cell_type": "code",
   "execution_count": 1,
   "metadata": {},
   "outputs": [],
   "source": [
    "import torch\n",
    "import torch.nn as nn\n",
    "import numpy as np\n",
    "import torchvision\n",
    "\n",
    "import torch.optim as optim\n",
    "from torch.optim import lr_scheduler\n",
    "from torchvision import datasets, models, transforms\n",
    "import matplotlib.pyplot as plt\n",
    "import time\n",
    "import os\n",
    "import copy\n",
    "\n",
    "import pandas as pd\n",
    "import json"
   ]
  },
  {
   "cell_type": "code",
   "execution_count": 2,
   "metadata": {},
   "outputs": [],
   "source": [
    "jsonfile=\"E:\\\\Sem2\\\\DL\\\\Assignments\\\\A-1\\\\train_data\\\\train_annotations.json\""
   ]
  },
  {
   "cell_type": "code",
   "execution_count": 3,
   "metadata": {
    "scrolled": false
   },
   "outputs": [],
   "source": [
    "json_data = pd.read_json(jsonfile, lines = True)\n",
    "# print(json_data)"
   ]
  },
  {
   "cell_type": "code",
   "execution_count": 4,
   "metadata": {},
   "outputs": [],
   "source": [
    "# for i in json_data:\n",
    "#     print(i)"
   ]
  },
  {
   "cell_type": "code",
   "execution_count": 23,
   "metadata": {},
   "outputs": [
    {
     "name": "stdout",
     "output_type": "stream",
     "text": [
      ">>>>> annotations\n",
      "--> categories\n",
      "==> images\n",
      "//// info\n"
     ]
    }
   ],
   "source": [
    "annotations=[]\n",
    "categories=[]\n",
    "images=[]\n",
    "info=[]\n",
    "for i in json_data:\n",
    "    if(i=='annotations'):\n",
    "        print('>>>>>',i)\n",
    "        for j in json_data[i]:\n",
    "            for k in j:\n",
    "                temp=[]\n",
    "                if('image_id' in k.keys()):\n",
    "                    temp.append(k['image_id'])\n",
    "                else:\n",
    "                    temp.append('iiiii')\n",
    "                    \n",
    "                if('category_id' in k.keys()):\n",
    "                    temp.append(k['category_id'])\n",
    "                else:\n",
    "                    temp.append(-1)\n",
    "                    \n",
    "                if('bbox' in k.keys()):\n",
    "                    temp.append(k['bbox'][0])\n",
    "                    temp.append(k['bbox'][1])\n",
    "                    temp.append(k['bbox'][2])\n",
    "                    temp.append(k['bbox'][3])\n",
    "                else:\n",
    "                    temp.append(0)\n",
    "                    temp.append(0)\n",
    "                    temp.append(2048)\n",
    "                    temp.append(1536)\n",
    "                    \n",
    "                if('id' in k.keys()):\n",
    "                    temp.append(k['id'])\n",
    "                else:\n",
    "                    temp.append('ddddd')\n",
    "                    \n",
    "                annotations.append(temp)\n",
    "                \n",
    "    if(i=='categories'):\n",
    "        print('-->',i)\n",
    "        for j in json_data[i]:\n",
    "            for k in j:\n",
    "                temp=[]\n",
    "                temp.append(k['id'])\n",
    "                temp.append(k['name'])\n",
    "\n",
    "                categories.append(temp)\n",
    "                \n",
    "    if(i=='images'):\n",
    "        print('==>',i)\n",
    "        for j in json_data[i]:\n",
    "            for k in j:\n",
    "                temp=[]\n",
    "                temp.append(k['file_name'])\n",
    "                temp.append(k['id'])\n",
    "\n",
    "                images.append(temp)\n",
    "    \n",
    "    if(i=='info'):\n",
    "        print('////',i)\n",
    "\n"
   ]
  },
  {
   "cell_type": "code",
   "execution_count": 24,
   "metadata": {},
   "outputs": [
    {
     "name": "stdout",
     "output_type": "stream",
     "text": [
      "['5a197af2-23d2-11e8-a6a3-ec086b02610b', 10, 317.44, 747.52, 261.11999999999995, 284.15999999999985, '19688']\n"
     ]
    }
   ],
   "source": [
    "for i in annotations:\n",
    "    print(i)\n",
    "    break"
   ]
  },
  {
   "cell_type": "code",
   "execution_count": 25,
   "metadata": {},
   "outputs": [
    {
     "name": "stdout",
     "output_type": "stream",
     "text": [
      "[6, 'bobcat']\n",
      "[1, 'opossum']\n",
      "[30, 'empty']\n",
      "[9, 'coyote']\n",
      "[3, 'raccoon']\n",
      "[11, 'bird']\n",
      "[8, 'dog']\n",
      "[16, 'cat']\n",
      "[5, 'squirrel']\n",
      "[10, 'rabbit']\n",
      "[7, 'skunk']\n",
      "[99, 'rodent']\n",
      "[21, 'badger']\n",
      "[34, 'deer']\n",
      "[33, 'car']\n",
      "[51, 'fox']\n"
     ]
    }
   ],
   "source": [
    "for i in categories:\n",
    "    print(i)"
   ]
  },
  {
   "cell_type": "code",
   "execution_count": 26,
   "metadata": {},
   "outputs": [
    {
     "name": "stdout",
     "output_type": "stream",
     "text": [
      "['5a2176e7-23d2-11e8-a6a3-ec086b02610b.jpg', '5a2176e7-23d2-11e8-a6a3-ec086b02610b']\n"
     ]
    }
   ],
   "source": [
    "for i in images:\n",
    "    print(i)\n",
    "    break"
   ]
  },
  {
   "cell_type": "code",
   "execution_count": 27,
   "metadata": {},
   "outputs": [],
   "source": [
    "import pandas as pd\n",
    "\n",
    "## convert your array into a dataframe\n",
    "df = pd.DataFrame(annotations)\n",
    "annot_filepath = 'annotations.xlsx'\n",
    "df.to_excel(annot_filepath,index=False,header=['image_id','category_id','bbox_0','bbox_1','bbox_2','bbox_3','id'])\n",
    "\n",
    "df = pd.DataFrame(categories)\n",
    "categories_filepath='categories.xlsx'\n",
    "df.to_excel(categories_filepath,index=False, header=['id','name'])\n",
    "\n",
    "df = pd.DataFrame(images)\n",
    "images_filepath='images.xlsx'\n",
    "df.to_excel(images_filepath,index=False,header=['file_name','id'])\n",
    "\n"
   ]
  },
  {
   "cell_type": "code",
   "execution_count": 28,
   "metadata": {},
   "outputs": [
    {
     "name": "stdout",
     "output_type": "stream",
     "text": [
      "[6, 1, 30, 9, 3, 11, 8, 16, 5, 10, 7, 99, 21, 34, 33, 51]\n",
      "['bobcat', 'opossum', 'empty', 'coyote', 'raccoon', 'bird', 'dog', 'cat', 'squirrel', 'rabbit', 'skunk', 'rodent', 'badger', 'deer', 'car', 'fox']\n"
     ]
    }
   ],
   "source": [
    "catgs=pd.read_excel('C:\\\\Users\\\\Subhani\\\\Documents\\\\Jupyter DL Assignments\\\\Assignment_1\\\\Mine\\\\categories.xlsx')\n",
    "\n",
    "catg_id=list(catgs.values[:,0])\n",
    "catg_name=list(catgs.values[:,1])\n",
    "\n",
    "print(catg_id)\n",
    "print(catg_name)"
   ]
  },
  {
   "cell_type": "code",
   "execution_count": 31,
   "metadata": {},
   "outputs": [
    {
     "name": "stderr",
     "output_type": "stream",
     "text": [
      "c:\\users\\subhani\\appdata\\local\\programs\\python\\python36\\lib\\site-packages\\sklearn\\utils\\validation.py:595: DataConversionWarning: Data with input dtype object was converted to float64 by MinMaxScaler.\n",
      "  warnings.warn(msg, DataConversionWarning)\n"
     ]
    },
    {
     "name": "stdout",
     "output_type": "stream",
     "text": [
      "[[0.33165563 0.35452794 0.04636433 0.04774898]\n",
      " [0.         0.51021195 0.02812262 0.053206  ]\n",
      " [0.00317881 0.75375723 0.02703623 0.10572988]\n",
      " ...\n",
      " [0.54119205 0.67976879 0.10438308 0.0808322 ]\n",
      " [0.53933775 0.6628131  0.12946542 0.09140518]\n",
      " [0.64635762 0.60693642 0.10691665 0.08765348]]\n",
      "------------\n"
     ]
    }
   ],
   "source": [
    "annotations=pd.read_excel('C:\\\\Users\\\\Subhani\\\\Documents\\\\Jupyter DL Assignments\\\\Assignment_1\\\\Mine\\\\annotations.xlsx')\n",
    "from sklearn.preprocessing import MinMaxScaler\n",
    "import pprint\n",
    "scaler = MinMaxScaler()\n",
    "\n",
    "ann_img_id=annotations.values[:,0]\n",
    "ann_catg_id=list(annotations.values[:,1])\n",
    "\n",
    "bbx = annotations.values[:,2:6]\n",
    "scaler.fit(bbx)\n",
    "bbx_trans=scaler.transform(bbx)    \n",
    "print(bbx_trans)\n",
    "\n",
    "ann_bbox_0=list(bbx_trans[:,0])\n",
    "ann_bbox_1=list(bbx_trans[:,1])\n",
    "ann_bbox_2=list(bbx_trans[:,2])\n",
    "ann_bbox_3=list(bbx_trans[:,3])\n",
    "\n",
    "for i in range(0,len(ann_img_id)):\n",
    "#     print(ann_catg_id[i],' ',ann_bbox_0[i],' ',ann_bbox_1[i],' ',ann_bbox_2[i],' ',ann_bbox_3[i])\n",
    "    file_name='train_anno\\\\'+ann_img_id[i]+'.txt'\n",
    "    if(os.path.exists(file_name)):\n",
    "        append_write='a'\n",
    "    else:\n",
    "        append_write='w'\n",
    "        \n",
    "    f = open(file_name,append_write)\n",
    "    \n",
    "    a=str(ann_catg_id[i])+' '+str(ann_bbox_0[i])+' '+str(ann_bbox_1[i])+' '+str(ann_bbox_2[i])+' '+str(ann_bbox_3[i])+'\\n'\n",
    "    f.write(a)\n",
    "    f.close()\n",
    "#     break\n",
    "print('------------')\n",
    "\n",
    "# for i in ann_catg_id:\n",
    "#     print(i)\n",
    "#     break\n",
    "# print('------------')\n",
    "\n",
    "# for i in ann_bbox_0:\n",
    "#     print(i)\n",
    "#     break\n",
    "# print('------------')\n",
    "\n",
    "# for i in ann_bbox_1:\n",
    "#     print(i)\n",
    "#     break\n",
    "# print('------------')\n",
    "\n",
    "# for i in ann_bbox_2:\n",
    "#     print(i)\n",
    "#     break\n",
    "# print('------------')\n",
    "\n",
    "# for i in ann_bbox_3:\n",
    "#     print(i)\n",
    "#     break"
   ]
  },
  {
   "cell_type": "code",
   "execution_count": 30,
   "metadata": {},
   "outputs": [
    {
     "name": "stdout",
     "output_type": "stream",
     "text": [
      "------------\n"
     ]
    }
   ],
   "source": [
    "images=pd.read_excel('C:\\\\Users\\\\Subhani\\\\Documents\\\\Jupyter DL Assignments\\\\Assignment_1\\\\Mine\\\\images.xlsx')\n",
    "img_fname=list(images.values[:,0])\n",
    "img_id=list(images.values[:,1])\n",
    "\n",
    "for i in range(0,len(img_fname)):\n",
    "#     print(img_fname[i])\n",
    "    train_img=open('animals.txt','a')\n",
    "    train_img.write('/images/train2014/'+img_fname[i]+'\\n')\n",
    "    train_img.close()\n",
    "#     break\n",
    "print('------------')\n",
    "\n",
    "# for i in img_id:\n",
    "#     print(i)\n",
    "#     break\n"
   ]
  },
  {
   "cell_type": "code",
   "execution_count": 6,
   "metadata": {},
   "outputs": [
    {
     "name": "stdout",
     "output_type": "stream",
     "text": [
      "<_io.TextIOWrapper name='C:/Users/Subhani/Desktop/trainvalno5k.txt' mode='r' encoding='cp1252'>\n"
     ]
    }
   ],
   "source": [
    "f = open('C:/Users/Subhani/Desktop/trainvalno5k.txt', 'r')\n",
    "print(f)\n",
    "x = f.readlines()\n",
    "f.close()"
   ]
  },
  {
   "cell_type": "code",
   "execution_count": 8,
   "metadata": {},
   "outputs": [
    {
     "data": {
      "text/plain": [
       "4135"
      ]
     },
     "execution_count": 8,
     "metadata": {},
     "output_type": "execute_result"
    }
   ],
   "source": [
    "len(x)\n"
   ]
  },
  {
   "cell_type": "code",
   "execution_count": 12,
   "metadata": {},
   "outputs": [],
   "source": [
    "x=set(x)"
   ]
  },
  {
   "cell_type": "code",
   "execution_count": 13,
   "metadata": {},
   "outputs": [
    {
     "data": {
      "text/plain": [
       "4135"
      ]
     },
     "execution_count": 13,
     "metadata": {},
     "output_type": "execute_result"
    }
   ],
   "source": [
    "len(x)"
   ]
  },
  {
   "cell_type": "code",
   "execution_count": null,
   "metadata": {},
   "outputs": [],
   "source": []
  }
 ],
 "metadata": {
  "kernelspec": {
   "display_name": "Python 3",
   "language": "python",
   "name": "python3"
  },
  "language_info": {
   "codemirror_mode": {
    "name": "ipython",
    "version": 3
   },
   "file_extension": ".py",
   "mimetype": "text/x-python",
   "name": "python",
   "nbconvert_exporter": "python",
   "pygments_lexer": "ipython3",
   "version": "3.7.1"
  }
 },
 "nbformat": 4,
 "nbformat_minor": 2
}
