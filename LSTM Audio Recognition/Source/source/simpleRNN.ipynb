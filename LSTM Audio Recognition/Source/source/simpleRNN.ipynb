{
 "cells": [
  {
   "cell_type": "code",
   "execution_count": 11,
   "metadata": {},
   "outputs": [],
   "source": [
    "import torch\n",
    "import torch.nn as nn\n",
    "import torch.optim as opt\n",
    "import torch.autograd as auto\n",
    "from torch.utils.data import TensorDataset,DataLoader\n",
    "import matplotlib.pyplot as plt\n",
    "import torch.optim as optim\n",
    "import torch.nn.functional as F\n",
    "import numpy as np\n",
    "from sklearn.model_selection import train_test_split\n",
    "from sklearn.externals import joblib\n",
    "import librosa\n",
    "import matplotlib.pyplot as plt"
   ]
  },
  {
   "cell_type": "code",
   "execution_count": 2,
   "metadata": {
    "scrolled": true
   },
   "outputs": [],
   "source": [
    "data=joblib.load('mfcc.sav')\n",
    "len(data)\n",
    "\n",
    "X,y=[],[]\n",
    "for i in data:\n",
    "    X.append(librosa.util.pad_center(i[0], 173, axis=1))\n",
    "    y.append(i[1])\n",
    "\n",
    "y_dictionary={'air_conditioner':0,\n",
    "              'car_horn':1,\n",
    "              'children_playing':2,\n",
    "              'dog_bark':3,\n",
    "              'drilling':4,\n",
    "              'engine_idling':5,\n",
    "              'gun_shot':6,\n",
    "              'jackhammer':7,\n",
    "              'siren':8,\n",
    "              'street_music':9}\n",
    "\n",
    "for i in range(0,len(y)):\n",
    "#     print(y[i],'-->',y_dictionary.get(y[i]),'==>',end='')\n",
    "    y[i]=y_dictionary.get(y[i])\n",
    "#     print(y[i])"
   ]
  },
  {
   "cell_type": "code",
   "execution_count": 3,
   "metadata": {},
   "outputs": [],
   "source": [
    "X_train, X_test, y_train, y_test = train_test_split(X, y, test_size=0.2, random_state=42)"
   ]
  },
  {
   "cell_type": "code",
   "execution_count": 4,
   "metadata": {},
   "outputs": [
    {
     "data": {
      "text/plain": [
       "(40, 173)"
      ]
     },
     "execution_count": 4,
     "metadata": {},
     "output_type": "execute_result"
    }
   ],
   "source": [
    "X_train[2].shape"
   ]
  },
  {
   "cell_type": "code",
   "execution_count": 5,
   "metadata": {},
   "outputs": [],
   "source": [
    "BATCH_SIZE = 64"
   ]
  },
  {
   "cell_type": "code",
   "execution_count": 6,
   "metadata": {},
   "outputs": [],
   "source": [
    "X_train=torch.FloatTensor(X_train)\n",
    "X_test=torch.FloatTensor(X_test)\n",
    "y_train=torch.Tensor(y_train)\n",
    "y_test=torch.Tensor(y_test)"
   ]
  },
  {
   "cell_type": "code",
   "execution_count": 7,
   "metadata": {},
   "outputs": [],
   "source": [
    "train_ds = TensorDataset(X_train, y_train)\n",
    "train_dl = DataLoader(train_ds, batch_size=BATCH_SIZE, shuffle=True)\n",
    "\n",
    "test_ds = TensorDataset(X_test, y_test)\n",
    "test_dl = DataLoader(test_ds, batch_size=BATCH_SIZE * 2)"
   ]
  },
  {
   "cell_type": "code",
   "execution_count": 12,
   "metadata": {},
   "outputs": [],
   "source": [
    "# parameters \n",
    "N_STEPS = 40\n",
    "N_INPUTS = 173\n",
    "N_NEURONS = 150\n",
    "N_OUTPUTS = 10\n",
    "N_EPHOCS = 20"
   ]
  },
  {
   "cell_type": "code",
   "execution_count": 13,
   "metadata": {},
   "outputs": [],
   "source": [
    "class SoundRNN(nn.Module):\n",
    "    def __init__(self, batch_size, n_steps, n_inputs, n_neurons, n_outputs):\n",
    "        super(SoundRNN, self).__init__()\n",
    "        \n",
    "        self.n_neurons = n_neurons\n",
    "        self.batch_size = batch_size\n",
    "        self.n_steps = n_steps\n",
    "        self.n_inputs = n_inputs\n",
    "        self.n_outputs = n_outputs\n",
    "        \n",
    "        self.basic_rnn = nn.RNN(self.n_inputs, self.n_neurons)\n",
    "        \n",
    "        self.FC = nn.Linear(self.n_neurons, self.n_outputs)\n",
    "        \n",
    "    def init_hidden(self,):\n",
    "        # (num_layers, batch_size, n_neurons)\n",
    "        return (torch.zeros(1, self.batch_size, self.n_neurons))\n",
    "        \n",
    "    def forward(self, X):\n",
    "        # transforms X to dimensions: n_steps X batch_size X n_inputs\n",
    "        X = X.permute(1, 0, 2) \n",
    "        \n",
    "        self.batch_size = X.size(1)\n",
    "        self.hidden = self.init_hidden()\n",
    "        \n",
    "        lstm_out, self.hidden = self.basic_rnn(X, self.hidden)      \n",
    "        out = self.FC(self.hidden)\n",
    "        \n",
    "        return out.view(-1, self.n_outputs) # batch_size X n_output\n"
   ]
  },
  {
   "cell_type": "code",
   "execution_count": 14,
   "metadata": {},
   "outputs": [],
   "source": [
    "device = torch.device(\"cuda:0\" if torch.cuda.is_available() else \"cpu\")\n",
    "\n",
    "model = SoundRNN(BATCH_SIZE, N_STEPS, N_INPUTS, N_NEURONS, N_OUTPUTS)\n",
    "criterion = F.cross_entropy\n",
    "optimizer = optim.Adam(model.parameters(), lr=0.001)\n",
    "\n",
    "def get_accuracy(logit, target, batch_size):\n",
    "    corrects = (torch.max(logit, 1)[1].view(target.size()).data == target.data).sum()\n",
    "    accuracy = 100.0 * corrects/batch_size\n",
    "    return accuracy.item()"
   ]
  },
  {
   "cell_type": "code",
   "execution_count": 15,
   "metadata": {},
   "outputs": [
    {
     "name": "stdout",
     "output_type": "stream",
     "text": [
      "Epoch:  0 | Loss: 2.2982 | Train Accuracy: 16.01\n",
      "Epoch:  1 | Loss: 2.0437 | Train Accuracy: 28.34\n",
      "Epoch:  2 | Loss: 1.8784 | Train Accuracy: 36.58\n",
      "Epoch:  3 | Loss: 1.7246 | Train Accuracy: 43.97\n",
      "Epoch:  4 | Loss: 1.5737 | Train Accuracy: 51.54\n",
      "Epoch:  5 | Loss: 1.4214 | Train Accuracy: 57.34\n",
      "Epoch:  6 | Loss: 1.3068 | Train Accuracy: 62.58\n",
      "Epoch:  7 | Loss: 1.1904 | Train Accuracy: 66.12\n",
      "Epoch:  8 | Loss: 1.0401 | Train Accuracy: 73.13\n",
      "Epoch:  9 | Loss: 0.9195 | Train Accuracy: 77.00\n",
      "Epoch:  10 | Loss: 0.9125 | Train Accuracy: 77.27\n",
      "Epoch:  11 | Loss: 0.8136 | Train Accuracy: 80.25\n",
      "Epoch:  12 | Loss: 0.6649 | Train Accuracy: 86.37\n",
      "Epoch:  13 | Loss: 0.5797 | Train Accuracy: 89.57\n",
      "Epoch:  14 | Loss: 0.5327 | Train Accuracy: 91.06\n",
      "Epoch:  15 | Loss: 0.5119 | Train Accuracy: 90.60\n",
      "Epoch:  16 | Loss: 0.4121 | Train Accuracy: 94.58\n",
      "Epoch:  17 | Loss: 0.3432 | Train Accuracy: 96.00\n",
      "Epoch:  18 | Loss: 0.2919 | Train Accuracy: 97.39\n",
      "Epoch:  19 | Loss: 0.2573 | Train Accuracy: 97.94\n"
     ]
    }
   ],
   "source": [
    "for_plot_loss=[]\n",
    "for_plot_acc=[]\n",
    "for epoch in range(N_EPHOCS):\n",
    "    train_running_loss = 0.0\n",
    "    train_acc = 0.0\n",
    "    model.train()\n",
    "    \n",
    "    for i, data in enumerate(train_dl):\n",
    "        optimizer.zero_grad()\n",
    "        model.hidden = model.init_hidden() \n",
    "        \n",
    "        inputs, labels = data\n",
    "        inputs = inputs.view(-1, 40,173) \n",
    "        \n",
    "        outputs = model(inputs)\n",
    "        loss = criterion(outputs, labels.long())\n",
    "        loss.backward()\n",
    "        optimizer.step()\n",
    "\n",
    "        train_running_loss += loss.detach().item()\n",
    "        train_acc += get_accuracy(outputs, labels.long(), BATCH_SIZE)\n",
    "        \n",
    "    for_plot_loss.append(train_running_loss/i)\n",
    "    for_plot_acc.append(train_acc/i)    \n",
    "        \n",
    "    model.eval()\n",
    "    print('Epoch:  %d | Loss: %.4f | Train Accuracy: %.2f' \n",
    "          %(epoch, train_running_loss / i, train_acc/i))"
   ]
  },
  {
   "cell_type": "code",
   "execution_count": 16,
   "metadata": {},
   "outputs": [
    {
     "data": {
      "image/png": "[encoded data removed]",
      "text/plain": [
       "<Figure size 432x288 with 1 Axes>"
      ]
     },
     "metadata": {
      "needs_background": "light"
     },
     "output_type": "display_data"
    }
   ],
   "source": [
    "plt.plot(for_plot_loss)\n",
    "plt.ylabel(\"Loss\")\n",
    "plt.xlabel(\"Epoch\")\n",
    "plt.title(\"Train Loss\")\n",
    "plt.show()"
   ]
  },
  {
   "cell_type": "code",
   "execution_count": 17,
   "metadata": {},
   "outputs": [
    {
     "data": {
      "image/png": "[encoded data removed]",
      "text/plain": [
       "<Figure size 432x288 with 1 Axes>"
      ]
     },
     "metadata": {
      "needs_background": "light"
     },
     "output_type": "display_data"
    }
   ],
   "source": [
    "plt.plot(for_plot_acc)\n",
    "plt.ylabel(\"Accuracy\")\n",
    "plt.xlabel(\"Epoch\")\n",
    "plt.title(\"Train Accuracy\")\n",
    "plt.show()"
   ]
  },
  {
   "cell_type": "code",
   "execution_count": null,
   "metadata": {},
   "outputs": [],
   "source": []
  },
  {
   "cell_type": "code",
   "execution_count": null,
   "metadata": {},
   "outputs": [],
   "source": []
  }
 ],
 "metadata": {
  "kernelspec": {
   "display_name": "Python 3",
   "language": "python",
   "name": "python3"
  },
  "language_info": {
   "codemirror_mode": {
    "name": "ipython",
    "version": 3
   },
   "file_extension": ".py",
   "mimetype": "text/x-python",
   "name": "python",
   "nbconvert_exporter": "python",
   "pygments_lexer": "ipython3",
   "version": "3.7.1"
  }
 },
 "nbformat": 4,
 "nbformat_minor": 2
}
