{
 "cells": [
  {
   "cell_type": "code",
   "execution_count": 2,
   "metadata": {},
   "outputs": [],
   "source": [
    "import torch\n",
    "import torch.nn as nn\n",
    "import torch.optim as opt\n",
    "import torch.autograd as auto\n",
    "from torch.utils.data import TensorDataset,DataLoader\n",
    "import matplotlib.pyplot as plt\n",
    "\n",
    "import numpy as np\n",
    "from sklearn.model_selection import train_test_split\n",
    "from sklearn.externals import joblib\n",
    "import librosa\n",
    "import matplotlib.pyplot as plt\n",
    "import torch.optim as optim\n",
    "import torch.nn.functional as F\n"
   ]
  },
  {
   "cell_type": "code",
   "execution_count": 3,
   "metadata": {
    "scrolled": true
   },
   "outputs": [],
   "source": [
    "data=joblib.load('mfcc.sav')\n",
    "len(data)\n",
    "\n",
    "X,y=[],[]\n",
    "for i in data:\n",
    "    X.append(librosa.util.pad_center(i[0], 173, axis=1))\n",
    "    y.append(i[1])\n",
    "\n",
    "y_dictionary={'air_conditioner':0,\n",
    "              'car_horn':1,\n",
    "              'children_playing':2,\n",
    "              'dog_bark':3,\n",
    "              'drilling':4,\n",
    "              'engine_idling':5,\n",
    "              'gun_shot':6,\n",
    "              'jackhammer':7,\n",
    "              'siren':8,\n",
    "              'street_music':9}\n",
    "\n",
    "for i in range(0,len(y)):\n",
    "    y[i]=y_dictionary.get(y[i])"
   ]
  },
  {
   "cell_type": "code",
   "execution_count": 4,
   "metadata": {},
   "outputs": [],
   "source": [
    "X_train, X_test, y_train, y_test = train_test_split(X, y, test_size=0.2, random_state=42)"
   ]
  },
  {
   "cell_type": "code",
   "execution_count": 5,
   "metadata": {},
   "outputs": [
    {
     "data": {
      "text/plain": [
       "(40, 173)"
      ]
     },
     "execution_count": 5,
     "metadata": {},
     "output_type": "execute_result"
    }
   ],
   "source": [
    "X_train[2].shape"
   ]
  },
  {
   "cell_type": "code",
   "execution_count": 6,
   "metadata": {},
   "outputs": [],
   "source": [
    "BATCH_SIZE = 32"
   ]
  },
  {
   "cell_type": "code",
   "execution_count": 7,
   "metadata": {},
   "outputs": [],
   "source": [
    "X_train=torch.FloatTensor(X_train)\n",
    "X_test=torch.FloatTensor(X_test)\n",
    "y_train=torch.Tensor(y_train)\n",
    "y_test=torch.Tensor(y_test)"
   ]
  },
  {
   "cell_type": "code",
   "execution_count": 8,
   "metadata": {},
   "outputs": [],
   "source": [
    "train_ds = TensorDataset(X_train, y_train)\n",
    "train_dl = DataLoader(train_ds, batch_size=BATCH_SIZE, shuffle=True)\n",
    "\n",
    "test_ds = TensorDataset(X_test, y_test)\n",
    "test_dl = DataLoader(test_ds, batch_size=BATCH_SIZE * 2)"
   ]
  },
  {
   "cell_type": "code",
   "execution_count": 9,
   "metadata": {},
   "outputs": [],
   "source": [
    "# parameters \n",
    "N_STEPS = 40\n",
    "N_INPUTS = 173\n",
    "N_NEURONS = 173\n",
    "N_OUTPUTS = 10\n",
    "N_EPHOCS = 100"
   ]
  },
  {
   "cell_type": "code",
   "execution_count": 10,
   "metadata": {},
   "outputs": [],
   "source": [
    "class Sound_RNN_LSTM(nn.Module):\n",
    "    def __init__(self, batch_size, n_steps, n_inputs, n_neurons, n_outputs):\n",
    "        super(Sound_RNN_LSTM, self).__init__()\n",
    "        \n",
    "        self.n_neurons = n_neurons\n",
    "        self.batch_size = batch_size\n",
    "        self.n_steps = n_steps\n",
    "        self.n_inputs = n_inputs\n",
    "        self.n_outputs = n_outputs\n",
    "        \n",
    "        print(batch_size, n_steps, n_inputs, n_neurons, n_outputs)\n",
    "        self.lstm = nn.LSTM(self.n_inputs, self.n_neurons,3,dropout=0.2)\n",
    "        \n",
    "        self.FC = nn.Linear(self.n_neurons, self.n_outputs)\n",
    "        \n",
    "    def init_hidden(self,):\n",
    "        # (num_layers, batch_size, n_neurons)\n",
    "        return (torch.zeros(1, self.batch_size, self.n_neurons),torch.zeros(1, self.batch_size, self.n_neurons))\n",
    "        \n",
    "    def forward(self, X):\n",
    "        # transforms X to dimensions: n_steps X batch_size X n_inputs\n",
    "        X = X.permute(1, 0, 2) \n",
    "        \n",
    "        self.batch_size = X.size(1)\n",
    "        self.hidden = self.init_hidden()\n",
    "        \n",
    "        lstm_out, self.hidden = self.lstm(X)  \n",
    "        out = self.FC(lstm_out[-1])\n",
    "        \n",
    "        return out.view(-1, self.n_outputs)\n"
   ]
  },
  {
   "cell_type": "code",
   "execution_count": 136,
   "metadata": {},
   "outputs": [
    {
     "name": "stdout",
     "output_type": "stream",
     "text": [
      "32 40 173 173 10\n"
     ]
    }
   ],
   "source": [
    "device = torch.device(\"cuda:0\" if torch.cuda.is_available() else \"cpu\")\n",
    "\n",
    "model = Sound_RNN_LSTM(BATCH_SIZE, N_STEPS, N_INPUTS, N_NEURONS, N_OUTPUTS)\n",
    "criterion = F.cross_entropy\n",
    "optimizer = optim.Adam(model.parameters(), lr=5e-3)\n",
    "# optimizer = optim.SGD(model.parameters(), lr =5e-3, momentum=0.9)\n",
    "\n",
    "def get_accuracy(logit, target, batch_size):\n",
    "    corrects = (torch.max(logit, 1)[1].view(target.size()).data == target.data).sum()\n",
    "    accuracy = 100.0 * corrects/batch_size\n",
    "    return accuracy.item()"
   ]
  },
  {
   "cell_type": "code",
   "execution_count": 137,
   "metadata": {},
   "outputs": [],
   "source": [
    "def eval_model(model, val_iter):\n",
    "    total_epoch_loss = 0\n",
    "    valid_acc = 0\n",
    "    total_epoch_acc=0\n",
    "    model.cuda()\n",
    "    model.eval()\n",
    "    num_corrects=0\n",
    "    total=0\n",
    "    with torch.no_grad():\n",
    "        for idx, batch in enumerate(val_iter):\n",
    "            inputs = batch[0]\n",
    "            \n",
    "            target = batch[1]\n",
    "            target = torch.autograd.Variable(target).long()\n",
    "            \n",
    "            inputs=inputs.cuda()\n",
    "            target=target.cuda()\n",
    "            prediction = model(inputs)\n",
    "            loss = criterion(prediction, target)\n",
    "        \n",
    "            _, predicted = torch.max(prediction.data, 1)\n",
    "            num_corrects += (predicted == target).sum().item()\n",
    "            \n",
    "            total+=target.size(0)\n",
    "            total_epoch_loss += loss.item()\n",
    "        acc = 100.0 * num_corrects/total\n",
    "        \n",
    "    return total_epoch_loss/len(val_iter), acc"
   ]
  },
  {
   "cell_type": "code",
   "execution_count": 138,
   "metadata": {},
   "outputs": [
    {
     "name": "stdout",
     "output_type": "stream",
     "text": [
      "Epoch:  0 | Loss: 2.0053 | Train Accuracy: 22.22 ==> 1.724118379985585 30.358785648574056\n",
      "Epoch:  1 | Loss: 1.7452 | Train Accuracy: 31.92 ==> 1.8807656624737907 29.254829806807727\n",
      "Epoch:  2 | Loss: 1.6394 | Train Accuracy: 37.01 ==> 1.5541637574925142 40.47838086476541\n",
      "Epoch:  3 | Loss: 1.5236 | Train Accuracy: 42.46 ==> 1.5467533644507914 42.870285188592455\n",
      "Epoch:  4 | Loss: 1.3888 | Train Accuracy: 47.82 ==> 1.3684962567161112 49.12603495860166\n",
      "Epoch:  5 | Loss: 1.2542 | Train Accuracy: 54.14 ==> 1.3428402858621933 51.14995400183992\n",
      "Epoch:  6 | Loss: 1.1223 | Train Accuracy: 59.59 ==> 1.2646219239515417 56.48574057037718\n",
      "Epoch:  7 | Loss: 1.0494 | Train Accuracy: 61.82 ==> 1.1912419445374434 60.25758969641215\n",
      "Epoch:  8 | Loss: 0.9696 | Train Accuracy: 65.52 ==> 1.1378809494130753 59.98160073597056\n",
      "Epoch:  9 | Loss: 0.8732 | Train Accuracy: 69.37 ==> 1.2138459542218376 59.61361545538178\n",
      "Epoch:  10 | Loss: 0.7819 | Train Accuracy: 72.52 ==> 1.0754222414072823 64.48942042318308\n",
      "Epoch:  11 | Loss: 0.7025 | Train Accuracy: 76.22 ==> 0.9955895683344673 66.51333946642134\n",
      "Epoch:  12 | Loss: 0.6343 | Train Accuracy: 78.36 ==> 0.9616216561373543 68.35326586936523\n",
      "Epoch:  13 | Loss: 0.5621 | Train Accuracy: 80.08 ==> 0.9061545554329368 71.11315547378105\n",
      "Epoch:  14 | Loss: 0.5250 | Train Accuracy: 82.70 ==> 0.9147413232747246 71.48114075436983\n",
      "Epoch:  15 | Loss: 0.4857 | Train Accuracy: 82.89 ==> 0.9442207006847158 70.92916283348666\n",
      "Epoch:  16 | Loss: 0.4579 | Train Accuracy: 83.97 ==> 0.9220780765309053 70.83716651333947\n",
      "Epoch:  17 | Loss: 0.4685 | Train Accuracy: 83.69 ==> 0.8604959372211906 73.22907083716652\n",
      "Epoch:  18 | Loss: 0.4598 | Train Accuracy: 83.99 ==> 0.9237045224975137 71.38914443422263\n",
      "Epoch:  19 | Loss: 0.4147 | Train Accuracy: 85.60 ==> 0.9187270227600547 72.76908923643055\n",
      "Epoch:  20 | Loss: 0.3845 | Train Accuracy: 87.12 ==> 0.9076385620762321 73.13707451701931\n",
      "Epoch:  21 | Loss: 0.3768 | Train Accuracy: 87.83 ==> 0.9364141436184154 73.5050597976081\n",
      "Epoch:  22 | Loss: 0.3386 | Train Accuracy: 88.39 ==> 0.9429974240415236 74.24103035878565\n",
      "Epoch:  23 | Loss: 0.3583 | Train Accuracy: 87.26 ==> 0.9493323213913861 74.51701931922723\n",
      "Epoch:  24 | Loss: 0.3580 | Train Accuracy: 87.26 ==> 0.8865220371414634 74.33302667893284\n",
      "Epoch:  25 | Loss: 0.3492 | Train Accuracy: 87.79 ==> 0.9124080258257249 72.30910763569457\n",
      "Epoch:  26 | Loss: 0.3453 | Train Accuracy: 88.11 ==> 0.8856793642044067 73.22907083716652\n",
      "Epoch:  27 | Loss: 0.3412 | Train Accuracy: 88.09 ==> 0.88774214071386 74.05703771849126\n",
      "Epoch:  28 | Loss: 0.2905 | Train Accuracy: 89.63 ==> 0.9803720993154189 72.95308187672494\n",
      "Epoch:  29 | Loss: 0.3062 | Train Accuracy: 89.05 ==> 0.9265667585765615 73.78104875804968\n",
      "Epoch:  30 | Loss: 0.2757 | Train Accuracy: 90.57 ==> 0.9798581810558543 73.78104875804968\n",
      "Epoch:  31 | Loss: 0.2980 | Train Accuracy: 89.95 ==> 0.9470523385440602 75.34498620055197\n",
      "Epoch:  32 | Loss: 0.2934 | Train Accuracy: 89.93 ==> 0.9025438673356 74.9770009199632\n",
      "Epoch:  33 | Loss: 0.3149 | Train Accuracy: 89.08 ==> 0.9203444929683909 74.51701931922723\n",
      "Epoch:  34 | Loss: 0.2670 | Train Accuracy: 90.46 ==> 0.9414989702841815 74.33302667893284\n",
      "Epoch:  35 | Loss: 0.2360 | Train Accuracy: 92.23 ==> 0.9067511663717382 74.70101195952162\n",
      "Epoch:  36 | Loss: 0.2373 | Train Accuracy: 91.54 ==> 0.974234121687272 74.88500459981601\n",
      "Epoch:  37 | Loss: 0.2549 | Train Accuracy: 91.86 ==> 0.8696962805355296 75.98896044158234\n",
      "Epoch:  38 | Loss: 0.2504 | Train Accuracy: 91.10 ==> 0.8919661869021023 75.34498620055197\n",
      "Epoch:  39 | Loss: 0.2607 | Train Accuracy: 90.71 ==> 0.8982057501288021 76.81692732290708\n",
      "Epoch:  40 | Loss: 0.2517 | Train Accuracy: 91.26 ==> 0.9242822212331435 74.79300827966881\n",
      "Epoch:  41 | Loss: 0.2169 | Train Accuracy: 92.32 ==> 0.9739134416860693 75.06899724011039\n",
      "Epoch:  42 | Loss: 0.2674 | Train Accuracy: 90.55 ==> 0.9779106764232411 73.4130634774609\n",
      "Epoch:  43 | Loss: 0.2923 | Train Accuracy: 90.16 ==> 0.9514030779109282 75.43698252069917\n",
      "Epoch:  44 | Loss: 0.2322 | Train Accuracy: 91.88 ==> 0.8916612793417538 77.09291628334867\n",
      "Epoch:  45 | Loss: 0.1975 | Train Accuracy: 93.35 ==> 0.891421822940602 76.44894204231831\n",
      "Epoch:  46 | Loss: 0.1762 | Train Accuracy: 94.16 ==> 0.9266934219528647 76.26494940202392\n",
      "Epoch:  47 | Loss: 0.2048 | Train Accuracy: 93.17 ==> 0.9725053661009845 76.44894204231831\n",
      "Epoch:  48 | Loss: 0.2112 | Train Accuracy: 92.87 ==> 1.0122679226538713 74.60901563937442\n",
      "Epoch:  49 | Loss: 0.2107 | Train Accuracy: 93.26 ==> 0.9947283899082857 75.98896044158234\n",
      "Epoch:  50 | Loss: 0.2047 | Train Accuracy: 93.05 ==> 0.9563863768297083 77.64489420423183\n",
      "Epoch:  51 | Loss: 0.2058 | Train Accuracy: 93.24 ==> 0.966590495670543 76.08095676172952\n",
      "Epoch:  52 | Loss: 0.1941 | Train Accuracy: 93.49 ==> 1.0253162208725424 75.25298988040478\n",
      "Epoch:  53 | Loss: 0.2475 | Train Accuracy: 91.61 ==> 1.0113875795813168 76.6329346826127\n",
      "Epoch:  54 | Loss: 0.2168 | Train Accuracy: 93.01 ==> 0.9633504222421085 78.0128794848206\n",
      "Epoch:  55 | Loss: 0.2334 | Train Accuracy: 92.20 ==> 0.9221765363917631 76.26494940202392\n",
      "Epoch:  56 | Loss: 0.2610 | Train Accuracy: 91.17 ==> 0.9147709152277779 76.6329346826127\n",
      "Epoch:  57 | Loss: 0.2590 | Train Accuracy: 91.03 ==> 0.9655746221542358 76.5409383624655\n",
      "Epoch:  58 | Loss: 0.2465 | Train Accuracy: 91.51 ==> 0.9059078623266781 75.43698252069917\n",
      "Epoch:  59 | Loss: 0.2506 | Train Accuracy: 91.47 ==> 0.9253360944635728 76.44894204231831\n",
      "Epoch:  60 | Loss: 0.2259 | Train Accuracy: 92.02 ==> 0.9346733093261719 76.5409383624655\n",
      "Epoch:  61 | Loss: 0.2129 | Train Accuracy: 92.43 ==> 0.953989516286289 76.17295308187673\n",
      "Epoch:  62 | Loss: 0.2532 | Train Accuracy: 91.49 ==> 0.9064506011850694 76.26494940202392\n",
      "Epoch:  63 | Loss: 0.2416 | Train Accuracy: 91.58 ==> 0.9684954285621643 75.98896044158234\n",
      "Epoch:  64 | Loss: 0.2342 | Train Accuracy: 92.20 ==> 0.9022915784050437 76.44894204231831\n",
      "Epoch:  65 | Loss: 0.2286 | Train Accuracy: 92.16 ==> 0.9095143605681026 78.0128794848206\n",
      "Epoch:  66 | Loss: 0.2394 | Train Accuracy: 91.93 ==> 0.9998095982214984 75.1609935602576\n",
      "Epoch:  67 | Loss: 0.2497 | Train Accuracy: 91.44 ==> 1.0095251132460201 76.6329346826127\n",
      "Epoch:  68 | Loss: 0.2764 | Train Accuracy: 90.62 ==> 0.9776312498485341 77.27690892364305\n",
      "Epoch:  69 | Loss: 0.2761 | Train Accuracy: 90.82 ==> 1.0217941929312313 74.14903403863845\n",
      "Epoch:  70 | Loss: 0.2893 | Train Accuracy: 90.00 ==> 0.8659190640730017 76.26494940202392\n",
      "Epoch:  71 | Loss: 0.2825 | Train Accuracy: 89.86 ==> 0.9203653335571289 76.17295308187673\n",
      "Epoch:  72 | Loss: 0.2760 | Train Accuracy: 90.92 ==> 0.9187145163031185 77.27690892364305\n",
      "Epoch:  73 | Loss: 0.2651 | Train Accuracy: 90.78 ==> 0.8569988818729625 79.02483900643975\n",
      "Epoch:  74 | Loss: 0.2632 | Train Accuracy: 90.82 ==> 0.9337470286032733 75.80496780128794\n",
      "Epoch:  75 | Loss: 0.2435 | Train Accuracy: 91.35 ==> 0.8703864392112283 77.36890524379025\n",
      "Epoch:  76 | Loss: 0.2125 | Train Accuracy: 92.30 ==> 0.8654774497537052 77.64489420423183\n",
      "Epoch:  77 | Loss: 0.2220 | Train Accuracy: 92.07 ==> 0.9106468400534462 77.73689052437902\n",
      "Epoch:  78 | Loss: 0.2395 | Train Accuracy: 91.97 ==> 0.872566324823043 77.82888684452622\n",
      "Epoch:  79 | Loss: 0.2288 | Train Accuracy: 92.36 ==> 0.9126702547073364 77.27690892364305\n",
      "Epoch:  80 | Loss: 0.2315 | Train Accuracy: 91.65 ==> 0.8854843868928797 77.27690892364305\n",
      "Epoch:  81 | Loss: 0.1985 | Train Accuracy: 93.38 ==> 0.847449383314918 78.65685372585097\n",
      "Epoch:  82 | Loss: 0.2511 | Train Accuracy: 92.00 ==> 0.9458346682436326 77.09291628334867\n",
      "Epoch:  83 | Loss: 0.2268 | Train Accuracy: 91.77 ==> 0.9184151414562675 77.64489420423183\n",
      "Epoch:  84 | Loss: 0.2035 | Train Accuracy: 92.92 ==> 0.9112816452980042 76.81692732290708\n",
      "Epoch:  85 | Loss: 0.2167 | Train Accuracy: 92.41 ==> 0.8893052865477169 77.46090156393744\n",
      "Epoch:  86 | Loss: 0.2350 | Train Accuracy: 92.09 ==> 0.9009203472558189 77.55289788408464\n",
      "Epoch:  87 | Loss: 0.2586 | Train Accuracy: 91.35 ==> 0.9213781006195966 78.0128794848206\n",
      "Epoch:  88 | Loss: 0.2495 | Train Accuracy: 91.58 ==> 0.9215312950751361 75.80496780128794\n",
      "Epoch:  89 | Loss: 0.2615 | Train Accuracy: 90.89 ==> 0.9185491519815782 76.90892364305428\n",
      "Epoch:  90 | Loss: 0.2724 | Train Accuracy: 90.62 ==> 0.8719421081683215 77.46090156393744\n"
     ]
    },
    {
     "name": "stdout",
     "output_type": "stream",
     "text": [
      "Epoch:  91 | Loss: 0.2685 | Train Accuracy: 90.39 ==> 0.8966229014536914 76.6329346826127\n",
      "Epoch:  92 | Loss: 0.2640 | Train Accuracy: 90.92 ==> 0.9939163853140438 75.71297148114076\n",
      "Epoch:  93 | Loss: 0.2547 | Train Accuracy: 90.96 ==> 0.9100099416340098 75.1609935602576\n",
      "Epoch:  94 | Loss: 0.2342 | Train Accuracy: 91.67 ==> 0.8806184144581065 78.47286108555657\n",
      "Epoch:  95 | Loss: 0.2731 | Train Accuracy: 90.57 ==> 0.8836751404930564 76.72493100275989\n",
      "Epoch:  96 | Loss: 0.2651 | Train Accuracy: 91.17 ==> 0.8374626566382015 78.2888684452622\n",
      "Epoch:  97 | Loss: 0.2502 | Train Accuracy: 91.44 ==> 0.8533960861318252 77.27690892364305\n",
      "Epoch:  98 | Loss: 0.2306 | Train Accuracy: 92.11 ==> 0.959065672229318 75.71297148114076\n",
      "Epoch:  99 | Loss: 0.2099 | Train Accuracy: 92.76 ==> 0.8560757391593036 78.38086476540938\n"
     ]
    }
   ],
   "source": [
    "for_plot_loss=[]\n",
    "for_plot_acc=[]\n",
    "\n",
    "val_loss=[]\n",
    "val_acc=[]\n",
    "for epoch in range(N_EPHOCS):\n",
    "    train_running_loss = 0.0\n",
    "    train_acc = 0.0\n",
    "    model.cuda()\n",
    "    model.train()\n",
    "    num_corrects=0\n",
    "    total=0\n",
    "    \n",
    "    for i, data in enumerate(train_dl):\n",
    "        optimizer.zero_grad()\n",
    "        \n",
    "        model.hidden = model.init_hidden() \n",
    "        \n",
    "        inputs, labels = data\n",
    "        inputs = inputs.view(-1, 40,173)\n",
    "        \n",
    "        inputs=inputs.cuda()\n",
    "        labels=labels.cuda()\n",
    "        outputs = model(inputs)\n",
    "        loss = criterion(outputs, labels.long())\n",
    "        loss.backward()\n",
    "        optimizer.step()\n",
    "\n",
    "        train_running_loss += loss.detach().item()\n",
    "        \n",
    "        _, predicted = torch.max(outputs.data, 1)\n",
    "        num_corrects += (predicted == labels.long()).sum().item()\n",
    "        total+=labels.size(0)\n",
    "    \n",
    "    acc = 100.0 * num_corrects/total\n",
    "    for_plot_loss.append(train_running_loss/i)\n",
    "    for_plot_acc.append(acc)\n",
    "    \n",
    "    model.eval()\n",
    "    \n",
    "    valid_loss,valid_accuracy=eval_model(model,test_dl)\n",
    "    \n",
    "    val_loss.append(valid_loss)\n",
    "    val_acc.append(valid_accuracy)\n",
    "    \n",
    "#     print('Epoch:  %d | Loss: %.4f | Train Accuracy: %.2f' \n",
    "#           %(epoch, train_running_loss / i, acc),'==>',valid_loss,valid_accuracy)\n",
    "    print('Epoch:  %d | Train_Loss: %.4f | Train_Accuracy: %.2f | Validation_Loss: %.4f | Validation_Accuracy: %.2f' \n",
    "          %(epoch, train_running_loss / i, acc,valid_loss,valid_accuracy))"
   ]
  },
  {
   "cell_type": "code",
   "execution_count": 202,
   "metadata": {},
   "outputs": [
    {
     "data": {
      "image/png": "[encoded data removed]",
      "text/plain": [
       "<Figure size 432x288 with 1 Axes>"
      ]
     },
     "metadata": {
      "needs_background": "light"
     },
     "output_type": "display_data"
    }
   ],
   "source": [
    "plt.plot(for_plot_loss)\n",
    "plt.ylabel(\"Loss\")\n",
    "plt.xlabel(\"Epoch\")\n",
    "plt.title(\"LSTM Train Loss\")\n",
    "plt.show()"
   ]
  },
  {
   "cell_type": "code",
   "execution_count": 203,
   "metadata": {},
   "outputs": [
    {
     "data": {
      "image/png": "[encoded data removed]",
      "text/plain": [
       "<Figure size 432x288 with 1 Axes>"
      ]
     },
     "metadata": {
      "needs_background": "light"
     },
     "output_type": "display_data"
    }
   ],
   "source": [
    "plt.plot(for_plot_acc)\n",
    "plt.ylabel(\"Accuracy\")\n",
    "plt.xlabel(\"Epoch\")\n",
    "plt.title(\"LSTM Train Accuracy\")\n",
    "plt.show()"
   ]
  },
  {
   "cell_type": "code",
   "execution_count": 204,
   "metadata": {},
   "outputs": [
    {
     "data": {
      "image/png": "[encoded data removed]",
      "text/plain": [
       "<Figure size 432x288 with 1 Axes>"
      ]
     },
     "metadata": {
      "needs_background": "light"
     },
     "output_type": "display_data"
    }
   ],
   "source": [
    "plt.plot(val_loss)\n",
    "plt.ylabel(\"Loss\")\n",
    "plt.xlabel(\"Epoch\")\n",
    "plt.title(\"LSTM Validation Loss\")\n",
    "plt.show()"
   ]
  },
  {
   "cell_type": "code",
   "execution_count": 205,
   "metadata": {},
   "outputs": [
    {
     "data": {
      "image/png": "[encoded data removed]",
      "text/plain": [
       "<Figure size 432x288 with 1 Axes>"
      ]
     },
     "metadata": {
      "needs_background": "light"
     },
     "output_type": "display_data"
    }
   ],
   "source": [
    "plt.plot(val_acc)\n",
    "plt.ylabel(\"Accuracy\")\n",
    "plt.xlabel(\"Epoch\")\n",
    "plt.title(\"LSTM Validation Accuracy\")\n",
    "plt.show()"
   ]
  },
  {
   "cell_type": "code",
   "execution_count": 206,
   "metadata": {},
   "outputs": [
    {
     "data": {
      "text/plain": [
       "Sound_RNN_LSTM(\n",
       "  (lstm): LSTM(173, 173, num_layers=3, dropout=0.2)\n",
       "  (FC): Linear(in_features=173, out_features=10, bias=True)\n",
       ")"
      ]
     },
     "execution_count": 206,
     "metadata": {},
     "output_type": "execute_result"
    }
   ],
   "source": [
    "model"
   ]
  },
  {
   "cell_type": "code",
   "execution_count": 207,
   "metadata": {},
   "outputs": [],
   "source": [
    "torch.save(model.state_dict(), \"C:/Users/Akhil/Desktop/DL/A2/lstm_for_val_weights.sav\")"
   ]
  },
  {
   "cell_type": "markdown",
   "metadata": {},
   "source": [
    "### Testing"
   ]
  },
  {
   "cell_type": "code",
   "execution_count": 11,
   "metadata": {},
   "outputs": [
    {
     "name": "stdout",
     "output_type": "stream",
     "text": [
      "32 40 173 173 10\n"
     ]
    }
   ],
   "source": [
    "net = Sound_RNN_LSTM(BATCH_SIZE, N_STEPS, N_INPUTS, N_NEURONS, N_OUTPUTS)\n",
    "net.load_state_dict(torch.load(\"lstm_for_val_weights.sav\"))"
   ]
  },
  {
   "cell_type": "code",
   "execution_count": 15,
   "metadata": {},
   "outputs": [],
   "source": [
    "def test_prediction(model, x_te, y_te):\n",
    "    model.cuda()\n",
    "    model.eval()\n",
    "    \n",
    "    prediction_class=[]\n",
    "    \n",
    "    with torch.no_grad():\n",
    "        for i in range(0,len(x_te)):\n",
    "            inputs = x_te[i].reshape(1,40,173)\n",
    "            \n",
    "            target = y_te[i]\n",
    "            target = torch.autograd.Variable(target).long()\n",
    "            \n",
    "            inputs=inputs.cuda()\n",
    "            target=target.cuda()\n",
    "            prediction = model(inputs)\n",
    "            \n",
    "            _, predicted = torch.max(prediction.data, 1)\n",
    "            \n",
    "#             print('predicted:',int(predicted),'--> Truth:',int(y_te[i]))\n",
    "            prediction_class.append(int(predicted))\n",
    "        return prediction_class"
   ]
  },
  {
   "cell_type": "code",
   "execution_count": 16,
   "metadata": {},
   "outputs": [],
   "source": [
    "import pandas as pd\n",
    "\n",
    "predicted_list=test_prediction(net, X_test, y_test)"
   ]
  },
  {
   "cell_type": "code",
   "execution_count": 17,
   "metadata": {},
   "outputs": [],
   "source": [
    "excel=[]\n",
    "for i in range(0,len(X_test)):\n",
    "    temp=[]\n",
    "    temp.append(i) #ID\n",
    "    temp.append(predicted_list[i]) #predicted class\n",
    "    excel.append(temp)"
   ]
  },
  {
   "cell_type": "code",
   "execution_count": 18,
   "metadata": {},
   "outputs": [],
   "source": [
    "df = pd.DataFrame(excel)\n",
    "filepath = 'test_predicted.xlsx'\n",
    "df.to_excel(filepath,index=False)"
   ]
  },
  {
   "cell_type": "code",
   "execution_count": null,
   "metadata": {},
   "outputs": [],
   "source": []
  }
 ],
 "metadata": {
  "kernelspec": {
   "display_name": "Python 3",
   "language": "python",
   "name": "python3"
  },
  "language_info": {
   "codemirror_mode": {
    "name": "ipython",
    "version": 3
   },
   "file_extension": ".py",
   "mimetype": "text/x-python",
   "name": "python",
   "nbconvert_exporter": "python",
   "pygments_lexer": "ipython3",
   "version": "3.7.1"
  }
 },
 "nbformat": 4,
 "nbformat_minor": 2
}
