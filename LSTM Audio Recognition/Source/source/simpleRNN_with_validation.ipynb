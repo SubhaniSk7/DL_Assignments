{
 "cells": [
  {
   "cell_type": "code",
   "execution_count": 30,
   "metadata": {},
   "outputs": [],
   "source": [
    "import torch\n",
    "import torch.nn as nn\n",
    "import torch.optim as opt\n",
    "import torch.autograd as auto\n",
    "from torch.utils.data import TensorDataset,DataLoader\n",
    "import matplotlib.pyplot as plt\n",
    "# import torch.autograd\n",
    "import numpy as np\n",
    "from sklearn.model_selection import train_test_split\n",
    "from sklearn.externals import joblib\n",
    "import librosa\n",
    "import matplotlib.pyplot as plt\n",
    "import torch.optim as optim\n",
    "import torch.nn.functional as F"
   ]
  },
  {
   "cell_type": "code",
   "execution_count": 3,
   "metadata": {
    "scrolled": true
   },
   "outputs": [],
   "source": [
    "data=joblib.load('mfcc.sav')\n",
    "len(data)\n",
    "\n",
    "X,y=[],[]\n",
    "for i in data:\n",
    "    X.append(librosa.util.pad_center(i[0], 173, axis=1))\n",
    "    y.append(i[1])\n",
    "\n",
    "y_dictionary={'air_conditioner':0,\n",
    "              'car_horn':1,\n",
    "              'children_playing':2,\n",
    "              'dog_bark':3,\n",
    "              'drilling':4,\n",
    "              'engine_idling':5,\n",
    "              'gun_shot':6,\n",
    "              'jackhammer':7,\n",
    "              'siren':8,\n",
    "              'street_music':9}\n",
    "\n",
    "for i in range(0,len(y)):\n",
    "#     print(y[i],'-->',y_dictionary.get(y[i]),'==>',end='')\n",
    "    y[i]=y_dictionary.get(y[i])\n",
    "#     print(y[i])"
   ]
  },
  {
   "cell_type": "code",
   "execution_count": 4,
   "metadata": {},
   "outputs": [],
   "source": [
    "X_train, X_test, y_train, y_test = train_test_split(X, y, test_size=0.2, random_state=42)"
   ]
  },
  {
   "cell_type": "code",
   "execution_count": 5,
   "metadata": {},
   "outputs": [
    {
     "data": {
      "text/plain": [
       "(40, 173)"
      ]
     },
     "execution_count": 5,
     "metadata": {},
     "output_type": "execute_result"
    }
   ],
   "source": [
    "X_train[2].shape"
   ]
  },
  {
   "cell_type": "code",
   "execution_count": 145,
   "metadata": {},
   "outputs": [],
   "source": [
    "BATCH_SIZE = 64"
   ]
  },
  {
   "cell_type": "code",
   "execution_count": 146,
   "metadata": {},
   "outputs": [],
   "source": [
    "X_train=torch.FloatTensor(X_train)\n",
    "X_test=torch.FloatTensor(X_test)\n",
    "y_train=torch.Tensor(y_train)\n",
    "y_test=torch.Tensor(y_test)"
   ]
  },
  {
   "cell_type": "code",
   "execution_count": 147,
   "metadata": {},
   "outputs": [],
   "source": [
    "train_ds = TensorDataset(X_train, y_train)\n",
    "train_dl = DataLoader(train_ds, batch_size=BATCH_SIZE, shuffle=True)\n",
    "\n",
    "test_ds = TensorDataset(X_test, y_test)\n",
    "test_dl = DataLoader(test_ds, batch_size=BATCH_SIZE * 2)"
   ]
  },
  {
   "cell_type": "code",
   "execution_count": 153,
   "metadata": {},
   "outputs": [],
   "source": [
    "# parameters \n",
    "N_STEPS = 40\n",
    "N_INPUTS = 173\n",
    "N_NEURONS = 150\n",
    "N_OUTPUTS = 10\n",
    "N_EPHOCS = 100"
   ]
  },
  {
   "cell_type": "code",
   "execution_count": 154,
   "metadata": {},
   "outputs": [],
   "source": [
    "class ImageRNN(nn.Module):\n",
    "    def __init__(self, batch_size, n_steps, n_inputs, n_neurons, n_outputs):\n",
    "        super(ImageRNN, self).__init__()\n",
    "        \n",
    "        self.n_neurons = n_neurons\n",
    "        self.batch_size = batch_size\n",
    "        self.n_steps = n_steps\n",
    "        self.n_inputs = n_inputs\n",
    "        self.n_outputs = n_outputs\n",
    "        \n",
    "        self.basic_rnn = nn.RNN(self.n_inputs, self.n_neurons)\n",
    "        \n",
    "        self.FC = nn.Linear(self.n_neurons, self.n_outputs)\n",
    "        \n",
    "    def init_hidden(self,):\n",
    "        # (num_layers, batch_size, n_neurons)\n",
    "        return (torch.zeros(1, self.batch_size, self.n_neurons))\n",
    "        \n",
    "    def forward(self, X):\n",
    "        # transforms X to dimensions: n_steps X batch_size X n_inputs\n",
    "        X = X.permute(1, 0, 2) \n",
    "        \n",
    "        self.batch_size = X.size(1)\n",
    "        self.hidden = self.init_hidden()\n",
    "        \n",
    "        lstm_out, self.hidden = self.basic_rnn(X, self.hidden)      \n",
    "        out = self.FC(self.hidden)\n",
    "        \n",
    "        return out.view(-1, self.n_outputs) # batch_size X n_output\n"
   ]
  },
  {
   "cell_type": "code",
   "execution_count": 155,
   "metadata": {},
   "outputs": [],
   "source": [
    "# Device\n",
    "device = torch.device(\"cuda:0\" if torch.cuda.is_available() else \"cpu\")\n",
    "\n",
    "# Model instance\n",
    "model = ImageRNN(BATCH_SIZE, N_STEPS, N_INPUTS, N_NEURONS, N_OUTPUTS)\n",
    "# criterion = nn.CrossEntropyLoss()\n",
    "criterion = F.cross_entropy\n",
    "optimizer = optim.Adam(model.parameters(), lr=0.001)\n",
    "\n",
    "def get_accuracy(logit, target, batch_size):\n",
    "    ''' Obtain accuracy for training round '''\n",
    "    corrects = (torch.max(logit, 1)[1].view(target.size()).data == target.data).sum()\n",
    "    accuracy = 100.0 * corrects/batch_size\n",
    "    return accuracy.item()"
   ]
  },
  {
   "cell_type": "code",
   "execution_count": 156,
   "metadata": {},
   "outputs": [],
   "source": [
    "def eval_model(model, val_iter):\n",
    "    total_epoch_loss = 0\n",
    "    valid_acc = 0\n",
    "    total_epoch_acc=0\n",
    "    model.eval()\n",
    "    num_corrects=0\n",
    "    total=0\n",
    "    with torch.no_grad():\n",
    "        for idx, batch in enumerate(val_iter):\n",
    "            inputs = batch[0]\n",
    "            \n",
    "#             if (text.size()[0] is not 32):\n",
    "#                 continue\n",
    "            target = batch[1]\n",
    "            target = torch.autograd.Variable(target).long()\n",
    "        \n",
    "#             if torch.cuda.is_available():\n",
    "#                 inputs = inputs.cuda()\n",
    "#                 target = target.cuda()\n",
    "#             print(inputs.dtype, target.dtype)\n",
    "            prediction = model(inputs)\n",
    "            loss = criterion(prediction, target)\n",
    "        \n",
    "            _, predicted = torch.max(prediction.data, 1)\n",
    "            num_corrects += (predicted == target).sum().item()\n",
    "            \n",
    "            total+=target.size(0)\n",
    "            total_epoch_loss += loss.item()\n",
    "        acc = 100.0 * num_corrects/total\n",
    "        \n",
    "    return total_epoch_loss/len(val_iter), acc"
   ]
  },
  {
   "cell_type": "code",
   "execution_count": 157,
   "metadata": {},
   "outputs": [
    {
     "name": "stdout",
     "output_type": "stream",
     "text": [
      "Epoch:  0 | Loss: 2.2958 | Train Accuracy: 16.44 ==> 2.17045169406467 20.14719411223551\n",
      "Epoch:  1 | Loss: 2.0593 | Train Accuracy: 28.13 ==> 2.102187607023451 22.81508739650414\n",
      "Epoch:  2 | Loss: 1.8924 | Train Accuracy: 35.79 ==> 2.073825306362576 25.94296228150874\n",
      "Epoch:  3 | Loss: 1.7732 | Train Accuracy: 41.42 ==> 2.052772866355048 23.91904323827047\n",
      "Epoch:  4 | Loss: 1.6336 | Train Accuracy: 47.38 ==> 2.027265111605326 26.494940202391906\n",
      "Epoch:  5 | Loss: 1.4965 | Train Accuracy: 54.88 ==> 2.0409695042504206 24.195032198712052\n",
      "Epoch:  6 | Loss: 1.3636 | Train Accuracy: 59.48 ==> 1.9817595614327326 28.79484820607176\n",
      "Epoch:  7 | Loss: 1.2455 | Train Accuracy: 64.17 ==> 1.999956488609314 26.678932842686294\n",
      "Epoch:  8 | Loss: 1.1073 | Train Accuracy: 69.71 ==> 1.9655362102720473 29.622815087396503\n",
      "Epoch:  9 | Loss: 1.0285 | Train Accuracy: 72.45 ==> 2.032480968369378 30.266789328426864\n",
      "Epoch:  10 | Loss: 0.9075 | Train Accuracy: 77.35 ==> 1.9901239209704928 30.082796688132476\n",
      "Epoch:  11 | Loss: 0.8021 | Train Accuracy: 80.80 ==> 2.007441626654731 29.438822447102115\n",
      "Epoch:  12 | Loss: 0.7156 | Train Accuracy: 83.83 ==> 2.004463169309828 30.358785648574056\n",
      "Epoch:  13 | Loss: 0.6376 | Train Accuracy: 86.29 ==> 2.1078021261427136 29.346826126954923\n",
      "Epoch:  14 | Loss: 0.5766 | Train Accuracy: 88.06 ==> 2.040567066934374 30.174793008279668\n",
      "Epoch:  15 | Loss: 0.4904 | Train Accuracy: 91.61 ==> 2.105213350719876 28.88684452621895\n",
      "Epoch:  16 | Loss: 0.4948 | Train Accuracy: 90.57 ==> 2.202751941151089 29.254829806807727\n",
      "Epoch:  17 | Loss: 0.5589 | Train Accuracy: 88.02 ==> 2.1349032719930015 31.922723091076357\n",
      "Epoch:  18 | Loss: 0.3907 | Train Accuracy: 93.47 ==> 2.1599417527516684 30.542778288868444\n",
      "Epoch:  19 | Loss: 0.3648 | Train Accuracy: 94.83 ==> 2.2151369518703885 31.09475620975161\n",
      "Epoch:  20 | Loss: 0.3040 | Train Accuracy: 96.18 ==> 2.2298272450764975 31.830726770929164\n",
      "Epoch:  21 | Loss: 0.2642 | Train Accuracy: 96.90 ==> 2.2414793173472085 31.370745170193192\n",
      "Epoch:  22 | Loss: 0.2147 | Train Accuracy: 98.11 ==> 2.2894432809617786 30.91076356945722\n",
      "Epoch:  23 | Loss: 0.1797 | Train Accuracy: 98.83 ==> 2.31233803431193 30.818767249310028\n",
      "Epoch:  24 | Loss: 0.1563 | Train Accuracy: 99.20 ==> 2.373904652065701 32.01471941122355\n",
      "Epoch:  25 | Loss: 0.1365 | Train Accuracy: 99.36 ==> 2.3646679984198675 32.29070837166513\n",
      "Epoch:  26 | Loss: 0.1168 | Train Accuracy: 99.54 ==> 2.402670462926229 31.55473781048758\n",
      "Epoch:  27 | Loss: 0.1070 | Train Accuracy: 99.66 ==> 2.4287013477749295 32.38270469181233\n",
      "Epoch:  28 | Loss: 0.0921 | Train Accuracy: 99.82 ==> 2.455690039528741 32.10671573137075\n",
      "Epoch:  29 | Loss: 0.0835 | Train Accuracy: 99.82 ==> 2.480439212587145 32.8426862925483\n",
      "Epoch:  30 | Loss: 0.0743 | Train Accuracy: 99.89 ==> 2.499535878499349 32.65869365225391\n",
      "Epoch:  31 | Loss: 0.0669 | Train Accuracy: 99.91 ==> 2.5141029357910156 32.8426862925483\n",
      "Epoch:  32 | Loss: 0.1099 | Train Accuracy: 98.34 ==> 2.856897724999322 25.666973321067157\n",
      "Epoch:  33 | Loss: 0.5298 | Train Accuracy: 84.54 ==> 2.5927694373660617 30.63477460901564\n",
      "Epoch:  34 | Loss: 0.2727 | Train Accuracy: 94.62 ==> 2.638684935039944 31.09475620975161\n",
      "Epoch:  35 | Loss: 0.2464 | Train Accuracy: 95.86 ==> 2.761659754647149 27.32290708371665\n",
      "Epoch:  36 | Loss: 0.3255 | Train Accuracy: 93.01 ==> 2.792329920662774 28.058877644894203\n",
      "Epoch:  37 | Loss: 0.2084 | Train Accuracy: 96.96 ==> 2.8025784492492676 29.7148114075437\n",
      "Epoch:  38 | Loss: 0.1322 | Train Accuracy: 99.20 ==> 2.757130993737115 29.898804047838087\n",
      "Epoch:  39 | Loss: 0.0856 | Train Accuracy: 99.61 ==> 2.7965697712368436 30.174793008279668\n",
      "Epoch:  40 | Loss: 0.0643 | Train Accuracy: 99.82 ==> 2.812411493725247 29.898804047838087\n",
      "Epoch:  41 | Loss: 0.0544 | Train Accuracy: 99.89 ==> 2.814220322502984 30.542778288868444\n",
      "Epoch:  42 | Loss: 0.0503 | Train Accuracy: 99.89 ==> 2.8487826453314886 29.898804047838087\n",
      "Epoch:  43 | Loss: 0.0425 | Train Accuracy: 99.93 ==> 2.856515301598443 30.91076356945722\n",
      "Epoch:  44 | Loss: 0.0419 | Train Accuracy: 99.91 ==> 2.8707744545406766 30.266789328426864\n",
      "Epoch:  45 | Loss: 0.3413 | Train Accuracy: 90.20 ==> 3.1301094161139593 23.827046918123276\n",
      "Epoch:  46 | Loss: 0.3506 | Train Accuracy: 90.89 ==> 3.0301230748494468 28.058877644894203\n",
      "Epoch:  47 | Loss: 0.1397 | Train Accuracy: 98.30 ==> 3.064506663216485 28.24287028518859\n",
      "Epoch:  48 | Loss: 0.1079 | Train Accuracy: 98.69 ==> 3.0374006430308023 28.702851885924563\n",
      "Epoch:  49 | Loss: 0.0564 | Train Accuracy: 99.84 ==> 3.042226552963257 28.978840846366147\n",
      "Epoch:  50 | Loss: 0.0420 | Train Accuracy: 99.98 ==> 3.044110139211019 30.542778288868444\n",
      "Epoch:  51 | Loss: 0.0364 | Train Accuracy: 99.98 ==> 3.0452244546678333 30.266789328426864\n",
      "Epoch:  52 | Loss: 0.0346 | Train Accuracy: 99.95 ==> 3.0616254806518555 29.07083716651334\n",
      "Epoch:  53 | Loss: 0.0272 | Train Accuracy: 99.98 ==> 3.065094682905409 30.45078196872125\n",
      "Epoch:  54 | Loss: 0.0257 | Train Accuracy: 99.98 ==> 3.1087534692552357 29.7148114075437\n",
      "Epoch:  55 | Loss: 0.0219 | Train Accuracy: 99.98 ==> 3.118419567743937 29.53081876724931\n",
      "Epoch:  56 | Loss: 0.0206 | Train Accuracy: 99.98 ==> 3.138532797495524 30.174793008279668\n",
      "Epoch:  57 | Loss: 0.0183 | Train Accuracy: 99.98 ==> 3.154161956575182 30.45078196872125\n",
      "Epoch:  58 | Loss: 0.0176 | Train Accuracy: 99.98 ==> 3.166249460644192 29.162833486660535\n",
      "Epoch:  59 | Loss: 0.0163 | Train Accuracy: 99.98 ==> 3.162702586915758 29.438822447102115\n",
      "Epoch:  60 | Loss: 0.0151 | Train Accuracy: 99.98 ==> 3.183706177605523 30.174793008279668\n",
      "Epoch:  61 | Loss: 0.0147 | Train Accuracy: 99.98 ==> 3.1939995288848877 29.53081876724931\n",
      "Epoch:  62 | Loss: 0.0134 | Train Accuracy: 99.98 ==> 3.2066167725457086 30.45078196872125\n",
      "Epoch:  63 | Loss: 0.0142 | Train Accuracy: 99.98 ==> 3.2118605507744684 30.174793008279668\n",
      "Epoch:  64 | Loss: 0.0128 | Train Accuracy: 99.98 ==> 3.2353018124898276 29.7148114075437\n",
      "Epoch:  65 | Loss: 0.0128 | Train Accuracy: 99.95 ==> 3.253550741407606 29.346826126954923\n",
      "Epoch:  66 | Loss: 0.0124 | Train Accuracy: 99.98 ==> 3.2555399205949573 29.7148114075437\n",
      "Epoch:  67 | Loss: 0.0103 | Train Accuracy: 99.98 ==> 3.273226817448934 29.53081876724931\n",
      "Epoch:  68 | Loss: 0.0103 | Train Accuracy: 99.98 ==> 3.2941151195102267 29.80680772769089\n",
      "Epoch:  69 | Loss: 0.0094 | Train Accuracy: 99.98 ==> 3.2840857240888806 30.358785648574056\n",
      "Epoch:  70 | Loss: 0.0090 | Train Accuracy: 99.98 ==> 3.30849470032586 29.80680772769089\n",
      "Epoch:  71 | Loss: 0.0086 | Train Accuracy: 99.98 ==> 3.312837415271335 30.358785648574056\n",
      "Epoch:  72 | Loss: 0.0083 | Train Accuracy: 99.98 ==> 3.3316362963782415 30.358785648574056\n",
      "Epoch:  73 | Loss: 0.0096 | Train Accuracy: 99.95 ==> 3.3393282890319824 30.174793008279668\n",
      "Epoch:  74 | Loss: 0.0085 | Train Accuracy: 99.98 ==> 3.3557615280151367 30.542778288868444\n",
      "Epoch:  75 | Loss: 0.0087 | Train Accuracy: 99.98 ==> 3.3641980754004583 30.818767249310028\n",
      "Epoch:  76 | Loss: 0.0075 | Train Accuracy: 99.98 ==> 3.3726404772864447 29.99080036798528\n",
      "Epoch:  77 | Loss: 0.0071 | Train Accuracy: 99.98 ==> 3.3756302992502847 30.45078196872125\n",
      "Epoch:  78 | Loss: 0.0063 | Train Accuracy: 99.98 ==> 3.3998032675849066 30.358785648574056\n",
      "Epoch:  79 | Loss: 0.0059 | Train Accuracy: 99.98 ==> 3.400389379925198 30.266789328426864\n",
      "Epoch:  80 | Loss: 0.0056 | Train Accuracy: 99.98 ==> 3.410993470085992 30.174793008279668\n",
      "Epoch:  81 | Loss: 0.0054 | Train Accuracy: 99.98 ==> 3.4257445865207248 30.082796688132476\n",
      "Epoch:  82 | Loss: 0.0052 | Train Accuracy: 99.98 ==> 3.4394532839457193 30.082796688132476\n",
      "Epoch:  83 | Loss: 0.0050 | Train Accuracy: 100.00 ==> 3.446045478185018 29.99080036798528\n",
      "Epoch:  84 | Loss: 0.0048 | Train Accuracy: 100.00 ==> 3.4583105776045056 30.45078196872125\n",
      "Epoch:  85 | Loss: 0.0046 | Train Accuracy: 100.00 ==> 3.469286812676324 30.542778288868444\n",
      "Epoch:  86 | Loss: 0.0044 | Train Accuracy: 100.00 ==> 3.4873856438530817 30.45078196872125\n",
      "Epoch:  87 | Loss: 0.0043 | Train Accuracy: 100.00 ==> 3.4889361328548856 30.726770929162832\n",
      "Epoch:  88 | Loss: 0.0041 | Train Accuracy: 100.00 ==> 3.5038642618391247 30.266789328426864\n",
      "Epoch:  89 | Loss: 0.0041 | Train Accuracy: 100.00 ==> 3.5106891791025796 30.726770929162832\n",
      "Epoch:  90 | Loss: 0.0038 | Train Accuracy: 100.00 ==> 3.5216338634490967 30.266789328426864\n"
     ]
    },
    {
     "name": "stdout",
     "output_type": "stream",
     "text": [
      "Epoch:  91 | Loss: 0.0037 | Train Accuracy: 100.00 ==> 3.533810271157159 30.542778288868444\n",
      "Epoch:  92 | Loss: 0.0035 | Train Accuracy: 100.00 ==> 3.5440624025132923 30.818767249310028\n",
      "Epoch:  93 | Loss: 0.0034 | Train Accuracy: 100.00 ==> 3.558546331193712 30.63477460901564\n",
      "Epoch:  94 | Loss: 0.0032 | Train Accuracy: 100.00 ==> 3.5657385985056558 30.63477460901564\n",
      "Epoch:  95 | Loss: 0.0031 | Train Accuracy: 100.00 ==> 3.5744052992926703 30.726770929162832\n",
      "Epoch:  96 | Loss: 0.0030 | Train Accuracy: 100.00 ==> 3.5894028345743814 30.266789328426864\n",
      "Epoch:  97 | Loss: 0.0029 | Train Accuracy: 100.00 ==> 3.5979131592644586 31.09475620975161\n",
      "Epoch:  98 | Loss: 0.0028 | Train Accuracy: 100.00 ==> 3.613760073979696 30.91076356945722\n",
      "Epoch:  99 | Loss: 0.0027 | Train Accuracy: 100.00 ==> 3.6253881719377308 30.63477460901564\n"
     ]
    }
   ],
   "source": [
    "for_plot_loss=[]\n",
    "for_plot_acc=[]\n",
    "for epoch in range(N_EPHOCS):  # loop over the dataset multiple times\n",
    "    train_running_loss = 0.0\n",
    "    train_acc = 0.0\n",
    "    model.train()\n",
    "    num_corrects=0\n",
    "    total=0\n",
    "    \n",
    "    # TRAINING ROUND\n",
    "    for i, data in enumerate(train_dl):\n",
    "         # zero the parameter gradients\n",
    "        optimizer.zero_grad()\n",
    "        \n",
    "        # reset hidden states\n",
    "        model.hidden = model.init_hidden() \n",
    "        \n",
    "        # get the inputs\n",
    "        inputs, labels = data\n",
    "        inputs = inputs.view(-1, 40,173) \n",
    "\n",
    "        # forward + backward + optimize\n",
    "        outputs = model(inputs)\n",
    "        loss = criterion(outputs, labels.long())\n",
    "        loss.backward()\n",
    "        optimizer.step()\n",
    "\n",
    "#         print(outputs.shape)\n",
    "        train_running_loss += loss.detach().item()\n",
    "#         train_acc += get_accuracy(outputs, labels.long(), BATCH_SIZE)\n",
    "        \n",
    "        _, predicted = torch.max(outputs.data, 1)\n",
    "        num_corrects += (predicted == labels.long()).sum().item()\n",
    "        total+=labels.size(0)\n",
    "        \n",
    "    acc = 100.0 * num_corrects/total\n",
    "    for_plot_loss.append(train_running_loss/i)\n",
    "#     for_plot_acc.append(train_acc/i)\n",
    "    for_plot_acc.append(acc)\n",
    "    \n",
    "    model.eval()\n",
    "\n",
    "    valid_loss,valid_accuracy=eval_model(model,test_dl)\n",
    "#     print('Epoch:  %d | Loss: %.4f | Train Accuracy: %.2f' \n",
    "#           %(epoch, train_running_loss / i, train_acc/i),'==>',valid_loss,valid_accuracy)\n",
    "    print('Epoch:  %d | Loss: %.4f | Train Accuracy: %.2f' \n",
    "          %(epoch, train_running_loss / i, acc),'==>',valid_loss,valid_accuracy)"
   ]
  },
  {
   "cell_type": "code",
   "execution_count": 144,
   "metadata": {},
   "outputs": [
    {
     "data": {
      "image/png": "[encoded data removed]",
      "text/plain": [
       "<Figure size 432x288 with 1 Axes>"
      ]
     },
     "metadata": {
      "needs_background": "light"
     },
     "output_type": "display_data"
    }
   ],
   "source": [
    "plt.plot(for_plot_loss)\n",
    "plt.ylabel(\"Loss\")\n",
    "plt.xlabel(\"Epoch\")\n",
    "plt.title(\"Train Loss\")\n",
    "plt.show()"
   ]
  },
  {
   "cell_type": "code",
   "execution_count": 75,
   "metadata": {},
   "outputs": [
    {
     "data": {
      "image/png": "[encoded data removed]",
      "text/plain": [
       "<Figure size 432x288 with 1 Axes>"
      ]
     },
     "metadata": {
      "needs_background": "light"
     },
     "output_type": "display_data"
    }
   ],
   "source": [
    "plt.plot(for_plot_acc)\n",
    "plt.ylabel(\"Accuracy\")\n",
    "plt.xlabel(\"Epoch\")\n",
    "plt.title(\"Train Accuracy\")\n",
    "plt.show()"
   ]
  },
  {
   "cell_type": "code",
   "execution_count": null,
   "metadata": {},
   "outputs": [],
   "source": []
  },
  {
   "cell_type": "code",
   "execution_count": null,
   "metadata": {},
   "outputs": [],
   "source": []
  }
 ],
 "metadata": {
  "kernelspec": {
   "display_name": "Python 3",
   "language": "python",
   "name": "python3"
  },
  "language_info": {
   "codemirror_mode": {
    "name": "ipython",
    "version": 3
   },
   "file_extension": ".py",
   "mimetype": "text/x-python",
   "name": "python",
   "nbconvert_exporter": "python",
   "pygments_lexer": "ipython3",
   "version": "3.7.1"
  }
 },
 "nbformat": 4,
 "nbformat_minor": 2
}
